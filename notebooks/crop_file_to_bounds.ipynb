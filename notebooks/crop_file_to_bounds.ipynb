{
 "cells": [
  {
   "cell_type": "markdown",
   "metadata": {},
   "source": [
    "# Crop file to specified boundaries\n",
    "This notebook crops the file from [Open Buildings](https://sites.research.google/open-buildings/#download) to the bounds using the provided geojson file."
   ]
  },
  {
   "cell_type": "code",
   "execution_count": 1,
   "metadata": {
    "ExecuteTime": {
     "end_time": "2023-02-19T16:04:14.795614Z",
     "start_time": "2023-02-19T16:04:14.223871Z"
    },
    "scrolled": true
   },
   "outputs": [
    {
     "name": "stderr",
     "output_type": "stream",
     "text": [
      "/opt/anaconda3/envs/geospatial/lib/python3.9/site-packages/geopandas/_compat.py:123: UserWarning: The Shapely GEOS version (3.11.1-CAPI-1.17.1) is incompatible with the GEOS version PyGEOS was compiled with (3.10.1-CAPI-1.16.0). Conversions between both will be slow.\n",
      "  warnings.warn(\n",
      "/var/folders/lt/_vxm7m7x0hs2v8mx_0zxl5vc0000gn/T/ipykernel_16853/3833191812.py:2: UserWarning: Shapely 2.0 is installed, but because PyGEOS is also installed, GeoPandas will still use PyGEOS by default for now. To force to use and test Shapely 2.0, you have to set the environment variable USE_PYGEOS=0. You can do this before starting the Python process, or in your code before importing geopandas:\n",
      "\n",
      "import os\n",
      "os.environ['USE_PYGEOS'] = '0'\n",
      "import geopandas\n",
      "\n",
      "In a future release, GeoPandas will switch to using Shapely by default. If you are using PyGEOS directly (calling PyGEOS functions on geometries from GeoPandas), this will then stop working and you are encouraged to migrate from PyGEOS to Shapely 2.0 (https://shapely.readthedocs.io/en/latest/migration_pygeos.html).\n",
      "  import geopandas as gpd\n"
     ]
    }
   ],
   "source": [
    "import pandas as pd\n",
    "import geopandas as gpd\n",
    "import matplotlib.pyplot as plt\n",
    "from shapely import wkt"
   ]
  },
  {
   "cell_type": "markdown",
   "metadata": {},
   "source": [
    "## 1. Download and extract building files\n",
    "Download data inside the cell containing Rizal province [here](https://storage.googleapis.com/open-buildings-data/v2/polygons_s2_level_4_gzip/339_buildings.csv.gz)\n",
    "\n",
    "Please extract the file in the `data/` folder\n",
    "The filename should be `339_buildings.csv`\n"
   ]
  },
  {
   "cell_type": "markdown",
   "metadata": {},
   "source": [
    "## 2. Read bounds\n",
    "Read Rizal boundaries geojson"
   ]
  },
  {
   "cell_type": "code",
   "execution_count": 2,
   "metadata": {
    "ExecuteTime": {
     "end_time": "2023-02-19T16:20:42.409826Z",
     "start_time": "2023-02-19T16:20:42.302986Z"
    }
   },
   "outputs": [
    {
     "data": {
      "text/plain": [
       "<Axes: >"
      ]
     },
     "execution_count": 2,
     "metadata": {},
     "output_type": "execute_result"
    },
    {
     "data": {
      "image/png": "[encoded data removed]",
      "text/plain": [
       "<Figure size 640x480 with 1 Axes>"
      ]
     },
     "metadata": {},
     "output_type": "display_data"
    }
   ],
   "source": [
    "bounds = gpd.read_file(\"../data/rizal.geojson\")\n",
    "bounds.plot(facecolor=\"none\")"
   ]
  },
  {
   "cell_type": "markdown",
   "metadata": {},
   "source": [
    "## 3. Read buildings\n",
    "Read the extracted building polygons file"
   ]
  },
  {
   "cell_type": "code",
   "execution_count": 3,
   "metadata": {
    "ExecuteTime": {
     "end_time": "2023-02-19T16:09:41.721093Z",
     "start_time": "2023-02-19T16:09:14.294322Z"
    }
   },
   "outputs": [
    {
     "name": "stdout",
     "output_type": "stream",
     "text": [
      "Read 14,042,826 records.\n"
     ]
    }
   ],
   "source": [
    "buildings = pd.read_csv(\"../data/339_buildings.csv\", engine=\"c\")\n",
    "print(f\"Read {len(buildings):,} records.\")"
   ]
  },
  {
   "cell_type": "code",
   "execution_count": 4,
   "metadata": {
    "ExecuteTime": {
     "end_time": "2023-02-19T16:30:45.985030Z",
     "start_time": "2023-02-19T16:30:20.105286Z"
    }
   },
   "outputs": [
    {
     "data": {
      "text/html": [
       "<div>\n",
       "<style scoped>\n",
       "    .dataframe tbody tr th:only-of-type {\n",
       "        vertical-align: middle;\n",
       "    }\n",
       "\n",
       "    .dataframe tbody tr th {\n",
       "        vertical-align: top;\n",
       "    }\n",
       "\n",
       "    .dataframe thead th {\n",
       "        text-align: right;\n",
       "    }\n",
       "</style>\n",
       "<table border=\"1\" class=\"dataframe\">\n",
       "  <thead>\n",
       "    <tr style=\"text-align: right;\">\n",
       "      <th></th>\n",
       "      <th>latitude</th>\n",
       "      <th>longitude</th>\n",
       "      <th>area_in_meters</th>\n",
       "      <th>confidence</th>\n",
       "      <th>geometry</th>\n",
       "      <th>full_plus_code</th>\n",
       "    </tr>\n",
       "  </thead>\n",
       "  <tbody>\n",
       "    <tr>\n",
       "      <th>0</th>\n",
       "      <td>14.537621</td>\n",
       "      <td>121.110581</td>\n",
       "      <td>43.9186</td>\n",
       "      <td>0.8324</td>\n",
       "      <td>POLYGON ((121.11061 14.53765, 121.11057 14.537...</td>\n",
       "      <td>7Q63G4Q6+26WW</td>\n",
       "    </tr>\n",
       "    <tr>\n",
       "      <th>1</th>\n",
       "      <td>14.892813</td>\n",
       "      <td>120.538926</td>\n",
       "      <td>95.7626</td>\n",
       "      <td>0.7994</td>\n",
       "      <td>POLYGON ((120.53898 14.89280, 120.53896 14.892...</td>\n",
       "      <td>7Q62VGVQ+4HFG</td>\n",
       "    </tr>\n",
       "    <tr>\n",
       "      <th>2</th>\n",
       "      <td>14.414952</td>\n",
       "      <td>120.847041</td>\n",
       "      <td>7.1470</td>\n",
       "      <td>0.6178</td>\n",
       "      <td>POLYGON ((120.84706 14.41496, 120.84702 14.414...</td>\n",
       "      <td>7Q62CR7W+XRM3</td>\n",
       "    </tr>\n",
       "    <tr>\n",
       "      <th>3</th>\n",
       "      <td>16.413239</td>\n",
       "      <td>120.584556</td>\n",
       "      <td>48.9282</td>\n",
       "      <td>0.6295</td>\n",
       "      <td>POLYGON ((120.58460 16.41322, 120.58459 16.413...</td>\n",
       "      <td>7Q82CH7M+7RVH</td>\n",
       "    </tr>\n",
       "    <tr>\n",
       "      <th>4</th>\n",
       "      <td>14.896263</td>\n",
       "      <td>120.766815</td>\n",
       "      <td>263.6622</td>\n",
       "      <td>0.8070</td>\n",
       "      <td>POLYGON ((120.76690 14.89634, 120.76680 14.896...</td>\n",
       "      <td>7Q62VQW8+GP4C</td>\n",
       "    </tr>\n",
       "  </tbody>\n",
       "</table>\n",
       "</div>"
      ],
      "text/plain": [
       "    latitude   longitude  area_in_meters  confidence  \\\n",
       "0  14.537621  121.110581         43.9186      0.8324   \n",
       "1  14.892813  120.538926         95.7626      0.7994   \n",
       "2  14.414952  120.847041          7.1470      0.6178   \n",
       "3  16.413239  120.584556         48.9282      0.6295   \n",
       "4  14.896263  120.766815        263.6622      0.8070   \n",
       "\n",
       "                                            geometry full_plus_code  \n",
       "0  POLYGON ((121.11061 14.53765, 121.11057 14.537...  7Q63G4Q6+26WW  \n",
       "1  POLYGON ((120.53898 14.89280, 120.53896 14.892...  7Q62VGVQ+4HFG  \n",
       "2  POLYGON ((120.84706 14.41496, 120.84702 14.414...  7Q62CR7W+XRM3  \n",
       "3  POLYGON ((120.58460 16.41322, 120.58459 16.413...  7Q82CH7M+7RVH  \n",
       "4  POLYGON ((120.76690 14.89634, 120.76680 14.896...  7Q62VQW8+GP4C  "
      ]
     },
     "execution_count": 4,
     "metadata": {},
     "output_type": "execute_result"
    }
   ],
   "source": [
    "buildings['geometry'] = gpd.GeoSeries.from_wkt(buildings['geometry'] )\n",
    "buildings_gdf = gpd.GeoDataFrame(buildings, geometry='geometry')\n",
    "proj_crs = \"4326\"\n",
    "buildings_gdf = buildings_gdf.set_crs(proj_crs)\n",
    "buildings_gdf.head()\n"
   ]
  },
  {
   "cell_type": "code",
   "execution_count": 5,
   "metadata": {
    "ExecuteTime": {
     "end_time": "2023-02-19T16:36:05.277308Z",
     "start_time": "2023-02-19T16:36:05.266440Z"
    }
   },
   "outputs": [],
   "source": [
    "# If above cell runs slow, uncomment and try the following code\n",
    "# Intersect is faster using the centroid instead of the polygon\n",
    "# Merge with original dataframe after then save"
   ]
  },
  {
   "cell_type": "code",
   "execution_count": 6,
   "metadata": {
    "ExecuteTime": {
     "end_time": "2023-02-19T16:36:17.601556Z",
     "start_time": "2023-02-19T16:36:17.592563Z"
    }
   },
   "outputs": [],
   "source": [
    "# usecols=['latitude', 'longitude', 'area_in_meters', 'confidence','full_plus_code']\n",
    "\n",
    "# buildings_gdf = gpd.GeoDataFrame(\n",
    "#     buildings[usecols], geometry=gpd.points_from_xy(buildings['longitude'],\\\n",
    "#                                                  buildings['latitude']))\n",
    "# proj_crs = \"4326\"\n",
    "# buildings_gdf = buildings_gdf.set_crs(proj_crs)\n",
    "#buildings_gdf.head()"
   ]
  },
  {
   "cell_type": "markdown",
   "metadata": {
    "ExecuteTime": {
     "end_time": "2023-02-19T16:13:39.952554Z",
     "start_time": "2023-02-19T16:13:04.348282Z"
    }
   },
   "source": [
    "## Get intersection"
   ]
  },
  {
   "cell_type": "code",
   "execution_count": 7,
   "metadata": {
    "ExecuteTime": {
     "end_time": "2023-02-19T16:33:42.974788Z",
     "start_time": "2023-02-19T16:32:19.532322Z"
    }
   },
   "outputs": [
    {
     "name": "stdout",
     "output_type": "stream",
     "text": [
      "Retained 742,539 records.\n"
     ]
    }
   ],
   "source": [
    "rizal_buildings = bounds[['geometry']].overlay(buildings_gdf,\\\n",
    "                                               how=\"intersection\",\\\n",
    "                                               keep_geom_type=False)\n",
    "print(f\"Retained {len(rizal_buildings):,} records.\")"
   ]
  },
  {
   "cell_type": "code",
   "execution_count": 8,
   "metadata": {
    "ExecuteTime": {
     "end_time": "2023-02-19T16:36:29.373946Z",
     "start_time": "2023-02-19T16:36:29.346795Z"
    }
   },
   "outputs": [
    {
     "data": {
      "text/html": [
       "<div>\n",
       "<style scoped>\n",
       "    .dataframe tbody tr th:only-of-type {\n",
       "        vertical-align: middle;\n",
       "    }\n",
       "\n",
       "    .dataframe tbody tr th {\n",
       "        vertical-align: top;\n",
       "    }\n",
       "\n",
       "    .dataframe thead th {\n",
       "        text-align: right;\n",
       "    }\n",
       "</style>\n",
       "<table border=\"1\" class=\"dataframe\">\n",
       "  <thead>\n",
       "    <tr style=\"text-align: right;\">\n",
       "      <th></th>\n",
       "      <th>latitude</th>\n",
       "      <th>longitude</th>\n",
       "      <th>area_in_meters</th>\n",
       "      <th>confidence</th>\n",
       "      <th>full_plus_code</th>\n",
       "      <th>geometry</th>\n",
       "    </tr>\n",
       "  </thead>\n",
       "  <tbody>\n",
       "    <tr>\n",
       "      <th>0</th>\n",
       "      <td>14.537621</td>\n",
       "      <td>121.110581</td>\n",
       "      <td>43.9186</td>\n",
       "      <td>0.8324</td>\n",
       "      <td>7Q63G4Q6+26WW</td>\n",
       "      <td>POLYGON ((121.11059 14.53758, 121.11055 14.537...</td>\n",
       "    </tr>\n",
       "    <tr>\n",
       "      <th>1</th>\n",
       "      <td>14.753431</td>\n",
       "      <td>121.138113</td>\n",
       "      <td>32.7564</td>\n",
       "      <td>0.6051</td>\n",
       "      <td>7Q63Q43Q+96H8</td>\n",
       "      <td>POLYGON ((121.13815 14.75339, 121.13806 14.753...</td>\n",
       "    </tr>\n",
       "    <tr>\n",
       "      <th>2</th>\n",
       "      <td>14.532918</td>\n",
       "      <td>121.163196</td>\n",
       "      <td>19.8461</td>\n",
       "      <td>0.6037</td>\n",
       "      <td>7Q63G5M7+578M</td>\n",
       "      <td>POLYGON ((121.16320 14.53289, 121.16317 14.532...</td>\n",
       "    </tr>\n",
       "    <tr>\n",
       "      <th>3</th>\n",
       "      <td>14.590740</td>\n",
       "      <td>121.182893</td>\n",
       "      <td>445.2835</td>\n",
       "      <td>0.8213</td>\n",
       "      <td>7Q63H5RM+75RG</td>\n",
       "      <td>POLYGON ((121.18291 14.59061, 121.18289 14.590...</td>\n",
       "    </tr>\n",
       "    <tr>\n",
       "      <th>4</th>\n",
       "      <td>14.609343</td>\n",
       "      <td>121.107028</td>\n",
       "      <td>7.5872</td>\n",
       "      <td>0.6710</td>\n",
       "      <td>7Q63J454+PRJQ</td>\n",
       "      <td>POLYGON ((121.10702 14.60933, 121.10702 14.609...</td>\n",
       "    </tr>\n",
       "  </tbody>\n",
       "</table>\n",
       "</div>"
      ],
      "text/plain": [
       "    latitude   longitude  area_in_meters  confidence full_plus_code  \\\n",
       "0  14.537621  121.110581         43.9186      0.8324  7Q63G4Q6+26WW   \n",
       "1  14.753431  121.138113         32.7564      0.6051  7Q63Q43Q+96H8   \n",
       "2  14.532918  121.163196         19.8461      0.6037  7Q63G5M7+578M   \n",
       "3  14.590740  121.182893        445.2835      0.8213  7Q63H5RM+75RG   \n",
       "4  14.609343  121.107028          7.5872      0.6710  7Q63J454+PRJQ   \n",
       "\n",
       "                                            geometry  \n",
       "0  POLYGON ((121.11059 14.53758, 121.11055 14.537...  \n",
       "1  POLYGON ((121.13815 14.75339, 121.13806 14.753...  \n",
       "2  POLYGON ((121.16320 14.53289, 121.16317 14.532...  \n",
       "3  POLYGON ((121.18291 14.59061, 121.18289 14.590...  \n",
       "4  POLYGON ((121.10702 14.60933, 121.10702 14.609...  "
      ]
     },
     "execution_count": 8,
     "metadata": {},
     "output_type": "execute_result"
    }
   ],
   "source": [
    "rizal_buildings.head()"
   ]
  },
  {
   "cell_type": "markdown",
   "metadata": {},
   "source": [
    "## Save file\n",
    "Save cropped data as geojson"
   ]
  },
  {
   "cell_type": "code",
   "execution_count": 9,
   "metadata": {
    "ExecuteTime": {
     "end_time": "2023-02-19T16:45:22.143412Z",
     "start_time": "2023-02-19T16:44:28.055513Z"
    }
   },
   "outputs": [],
   "source": [
    "rizal_buildings.to_file(\"../data/rizal_buildings.geojson\")"
   ]
  }
 ],
 "metadata": {
  "kernelspec": {
   "display_name": "Python 3 (ipykernel)",
   "language": "python",
   "name": "python3"
  },
  "language_info": {
   "codemirror_mode": {
    "name": "ipython",
    "version": 3
   },
   "file_extension": ".py",
   "mimetype": "text/x-python",
   "name": "python",
   "nbconvert_exporter": "python",
   "pygments_lexer": "ipython3",
   "version": "3.9.16"
  },
  "vscode": {
   "interpreter": {
    "hash": "d711d3c95c96716b4a626a9ac1cdbb3ae5e410baae0045fe5d148912e2703fdb"
   }
  }
 },
 "nbformat": 4,
 "nbformat_minor": 2
}
